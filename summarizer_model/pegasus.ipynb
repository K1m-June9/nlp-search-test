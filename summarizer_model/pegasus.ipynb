{
 "cells": [
  {
   "cell_type": "markdown",
   "metadata": {},
   "source": [
    "# PEGASUS\n",
    "* 한국어 버전잉 없"
   ]
  },
  {
   "cell_type": "code",
   "execution_count": 2,
   "metadata": {},
   "outputs": [
    {
     "name": "stderr",
     "output_type": "stream",
     "text": [
      "Some weights of PegasusForConditionalGeneration were not initialized from the model checkpoint at google/pegasus-xsum and are newly initialized: ['model.decoder.embed_positions.weight', 'model.encoder.embed_positions.weight']\n",
      "You should probably TRAIN this model on a down-stream task to be able to use it for predictions and inference.\n"
     ]
    },
    {
     "name": "stdout",
     "output_type": "stream",
     "text": [
      "The number of new confirmed cases of swine flu in South Korea reached a new high on the 23rd, breaking the record set on the 24th.\n"
     ]
    }
   ],
   "source": [
    "from transformers import PegasusTokenizer, PegasusForConditionalGeneration\n",
    "\n",
    "# Pegasus 모델과 토크나이저 불러오기\n",
    "model_name = \"google/pegasus-xsum\"  # 뉴스 기사 요약에 특화된 모델\n",
    "tokenizer = PegasusTokenizer.from_pretrained(model_name)\n",
    "model = PegasusForConditionalGeneration.from_pretrained(model_name)\n",
    "\n",
    "# 테스트할 텍스트\n",
    "text = \"\"\"\n",
    "At least 203,220 people were newly confirmed to COVID-19 by 9 p.m. on the 1st. Again, it entered the 200,000 range for the first time in history, the highest record at the same time.\n",
    "According to the quarantine authorities and each local government, including the Seoul Metropolitan Government, a total of 203,220 new confirmed cases nationwide were counted from midnight to 9 p.m. that day.\n",
    "This is the first time that the number of new confirmed cases in Korea has exceeded the 200,000 mark.\n",
    "As of 9 p.m. on the 23rd, the record was 161,389, which is more than 41,831. It is 69,739 more than the 133,481 recorded at the same time the previous day.\n",
    "The surge in confirmed cases was also predicted at 6 p.m., three hours ago.\n",
    "At least 178,603 people were newly confirmed by 6 p.m., breaking the record (138,419 on the 24th) at the same time, and already exceeding the record as of 0 o'clock. The record was 171,451 as of 0 o'clock on the 23rd.\n",
    "By 17 local governments, the Seoul metropolitan area accounted for 125,245 people, including 46,938 in Seoul, 67,322 in Gyeonggi Province and 19,85 in Incheon, accounting for 61.6 percent of the total. Both Seoul and Gyeonggi Province were the highest in terms of the same time period, exceeding 40,000 and 60,000 for the first time, respectively.\n",
    "In the non-metropolitan area, 77,975 people (38.3%) were reported. Except for Jeju, all regions recorded the highest number at the same time.\n",
    "There are 10,890 in Busan, 9,909 in Gyeongnam, 6,900 in Daegu, 6,977 in North Gyeongsang Province, 5,900 in South Chungcheong Province, 5,292 in Daejeon, 5150 in North Jeolla Province, 5141 in Ulsan, 5,130 in Gwangju, 4,996 in South Jeolla Province, 4932 in Gangwon Province, 3845 in North Chungcheong Province, 1513 in Jeju, and 1,400 in Sejong.\n",
    "The number of new confirmed cases to be announced as of midnight on the 2nd may be higher than this, as there is still time until midnight when the count is closed. As a result, the number of confirmed cases to be finally counted is expected to reach around 210,000.\n",
    "Meanwhile, 708,763 tests were conducted at a screening clinic on the previous day, with a positivity rate of 40.5 percent. It is the first time that the positivity rate has exceeded 40 percent. In other words, the spread could continue to intensify.\n",
    "As of midnight, the number of new confirmed cases stood at 138,993. The number continued at around 130,000 for two consecutive days.\n",
    "\n",
    "\"\"\"\n",
    "\n",
    "# text = \"\"\"\n",
    "# 1일 오후 9시까지 최소 20만3220명이 코로나19에 신규 확진됐다. 또다시 동시간대 최다 기록으로, 사상 처음 20만명대에 진입했다.\n",
    "# 방역 당국과 서울시 등 각 지방자치단체에 따르면 이날 0시부터 오후 9시까지 전국 신규 확진자는 총 20만3220명으로 집계됐다.\n",
    "# 국내 신규 확진자 수가 20만명대를 넘어선 것은 이번이 처음이다.\n",
    "# 동시간대 최다 기록은 지난 23일 오후 9시 기준 16만1389명이었는데, 이를 무려 4만1831명이나 웃돌았다. 전날 같은 시간 기록한 13만3481명보다도 6만9739명 많다.\n",
    "# 확진자 폭증은 3시간 전인 오후 6시 집계에서도 예견됐다.\n",
    "# 오후 6시까지 최소 17만8603명이 신규 확진돼 동시간대 최다 기록(24일 13만8419명)을 갈아치운 데 이어 이미 직전 0시 기준 역대 최다 기록도 넘어섰다. 역대 최다 기록은 지난 23일 0시 기준 17만1451명이었다.\n",
    "# 17개 지자체별로 보면 서울 4만6938명, 경기 6만7322명, 인천 1만985명 등 수도권이 12만5245명으로 전체의 61.6%를 차지했다. 서울과 경기는 모두 동시간대 기준 최다로, 처음으로 각각 4만명과 6만명을 넘어섰다.\n",
    "# 비수도권에서는 7만7975명(38.3%)이 발생했다. 제주를 제외한 나머지 지역에서 모두 동시간대 최다를 새로 썼다.\n",
    "# 부산 1만890명, 경남 9909명, 대구 6900명, 경북 6977명, 충남 5900명, 대전 5292명, 전북 5150명, 울산 5141명, 광주 5130명, 전남 4996명, 강원 4932명, 충북 3845명, 제주 1513명, 세종 1400명이다.\n",
    "# 집계를 마감하는 자정까지 시간이 남아있는 만큼 2일 0시 기준으로 발표될 신규 확진자 수는 이보다 더 늘어날 수 있다. 이에 따라 최종 집계되는 확진자 수는 21만명 안팎을 기록할 수 있을 전망이다.\n",
    "# 한편 전날 하루 선별진료소에서 이뤄진 검사는 70만8763건으로 검사 양성률은 40.5%다. 양성률이 40%를 넘은 것은 이번이 처음이다. 확산세가 계속 거세질 수 있다는 얘기다.\n",
    "# 이날 0시 기준 신규 확진자는 13만8993명이었다. 이틀 연속 13만명대를 이어갔다.\n",
    "# \"\"\"\n",
    "\n",
    "# 입력 텍스트 토크나이징\n",
    "inputs = tokenizer(text, return_tensors=\"pt\", max_length=512, truncation=True)\n",
    "\n",
    "# 요약 생성\n",
    "summary_ids = model.generate(inputs[\"input_ids\"], max_length=60, min_length=10, length_penalty=2.0, num_beams=4, early_stopping=True)\n",
    "\n",
    "# 요약 결과 출력\n",
    "summary = tokenizer.decode(summary_ids[0], skip_special_tokens=True)\n",
    "print(summary)\n"
   ]
  },
  {
   "cell_type": "markdown",
   "metadata": {},
   "source": [
    "만약 파인튜닝한다면"
   ]
  },
  {
   "cell_type": "code",
   "execution_count": null,
   "metadata": {},
   "outputs": [],
   "source": [
    "from transformers import PegasusTokenizer, PegasusForConditionalGeneration, Trainer, TrainingArguments\n",
    "\n",
    "# Pegasus 모델과 토크나이저 불러오기\n",
    "model_name = \"google/pegasus-xsum\"\n",
    "tokenizer = PegasusTokenizer.from_pretrained(model_name)\n",
    "model = PegasusForConditionalGeneration.from_pretrained(model_name)\n",
    "\n",
    "# 한국어 요약 데이터셋 로드 (AI Hub에서 가져올듯)\n",
    "# 텍스트 입력과 요약 결과로 구성된 데이터여야함\n",
    "train_dataset = ...  # 한국어 데이터셋 (토크나이징 필요)\n",
    "val_dataset = ...\n",
    "\n",
    "# 파인튜닝 설정\n",
    "training_args = TrainingArguments(\n",
    "    output_dir='./results',          # 학습 결과를 저장할 디렉토리\n",
    "    num_train_epochs=3,              # 에폭 수\n",
    "    per_device_train_batch_size=4,   # 배치 사이즈\n",
    "    per_device_eval_batch_size=4,    \n",
    "    warmup_steps=500,                \n",
    "    weight_decay=0.01,               \n",
    "    logging_dir='./logs',            \n",
    "    logging_steps=10,\n",
    ")\n",
    "\n",
    "# Trainer 생성\n",
    "trainer = Trainer(\n",
    "    model=model,\n",
    "    args=training_args,\n",
    "    train_dataset=train_dataset,\n",
    "    eval_dataset=val_dataset,\n",
    ")\n",
    "\n",
    "# 파인튜닝 수행\n",
    "trainer.train()\n"
   ]
  }
 ],
 "metadata": {
  "kernelspec": {
   "display_name": "Python 3",
   "language": "python",
   "name": "python3"
  },
  "language_info": {
   "codemirror_mode": {
    "name": "ipython",
    "version": 3
   },
   "file_extension": ".py",
   "mimetype": "text/x-python",
   "name": "python",
   "nbconvert_exporter": "python",
   "pygments_lexer": "ipython3",
   "version": "3.11.3"
  }
 },
 "nbformat": 4,
 "nbformat_minor": 2
}
